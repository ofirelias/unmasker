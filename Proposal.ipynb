version https://git-lfs.github.com/spec/v1
oid sha256:f47d2a94298a4b0514b69008cee43154700cfabe503771bc8f40882e09814466
size 55620880
