version https://git-lfs.github.com/spec/v1
oid sha256:42d13dd045d0872375dd58bac7a54e9f00018be440a71cc7b5be7b7eed520d12
size 65102593
