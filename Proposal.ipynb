version https://git-lfs.github.com/spec/v1
oid sha256:d07e8d09a643ab7de797e1c3ba5bb6eedaf420fa1cda46313f42f77d93758dd3
size 71688015
