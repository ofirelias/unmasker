version https://git-lfs.github.com/spec/v1
oid sha256:01cf0888665f55cda38b551ed873f0e230945ff1b488c078e386d8ca421989f3
size 245139
