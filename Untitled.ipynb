version https://git-lfs.github.com/spec/v1
oid sha256:0375ca3100d672c693a3f56ae77ff9b8a2e09a3c2b4a582fe76f8d8c34ba7665
size 19172548
